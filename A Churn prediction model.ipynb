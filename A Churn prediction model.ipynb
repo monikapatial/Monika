{
 "cells": [
  {
   "cell_type": "markdown",
   "metadata": {},
   "source": [
    "Data Science Project: MONIKA PATIAL"
   ]
  },
  {
   "cell_type": "markdown",
   "metadata": {},
   "source": [
    "Customer churn is an important metric that every business wants to keep an eye on for making profitable decisions. It's important because it is difficult and expensive to acquire new customers than to retain existing customers. I have used the \"Telco Customer Churn\" data from Kaggle to build a churn prediction model(using **Random Forest Model** and **Neural Network** using **TensorFlow**). We will start with understanding the data features, missing values, etc."
   ]
  },
  {
   "cell_type": "code",
   "execution_count": 1,
   "metadata": {},
   "outputs": [],
   "source": [
    "# Importing libraries:\n",
    "import pandas as pd\n",
    "import numpy as np\n",
    "\n",
    "# Data Visualization packages\n",
    "import seaborn as sns\n",
    "import matplotlib.pyplot as plt\n",
    "\n",
    "# Reading data\n",
    "data = pd.read_csv('WA_Fn-UseC_-Telco-Customer-Churn.csv')"
   ]
  },
  {
   "cell_type": "markdown",
   "metadata": {},
   "source": [
    "## Data Understanding"
   ]
  },
  {
   "cell_type": "markdown",
   "metadata": {},
   "source": [
    "A quick look at the dataset to see how it looks like"
   ]
  },
  {
   "cell_type": "code",
   "execution_count": 2,
   "metadata": {},
   "outputs": [
    {
     "data": {
      "text/html": [
       "<div>\n",
       "<style scoped>\n",
       "    .dataframe tbody tr th:only-of-type {\n",
       "        vertical-align: middle;\n",
       "    }\n",
       "\n",
       "    .dataframe tbody tr th {\n",
       "        vertical-align: top;\n",
       "    }\n",
       "\n",
       "    .dataframe thead th {\n",
       "        text-align: right;\n",
       "    }\n",
       "</style>\n",
       "<table border=\"1\" class=\"dataframe\">\n",
       "  <thead>\n",
       "    <tr style=\"text-align: right;\">\n",
       "      <th></th>\n",
       "      <th>customerID</th>\n",
       "      <th>gender</th>\n",
       "      <th>SeniorCitizen</th>\n",
       "      <th>Partner</th>\n",
       "      <th>Dependents</th>\n",
       "      <th>tenure</th>\n",
       "      <th>PhoneService</th>\n",
       "      <th>MultipleLines</th>\n",
       "      <th>InternetService</th>\n",
       "      <th>OnlineSecurity</th>\n",
       "      <th>...</th>\n",
       "      <th>DeviceProtection</th>\n",
       "      <th>TechSupport</th>\n",
       "      <th>StreamingTV</th>\n",
       "      <th>StreamingMovies</th>\n",
       "      <th>Contract</th>\n",
       "      <th>PaperlessBilling</th>\n",
       "      <th>PaymentMethod</th>\n",
       "      <th>MonthlyCharges</th>\n",
       "      <th>TotalCharges</th>\n",
       "      <th>Churn</th>\n",
       "    </tr>\n",
       "  </thead>\n",
       "  <tbody>\n",
       "    <tr>\n",
       "      <th>0</th>\n",
       "      <td>7590-VHVEG</td>\n",
       "      <td>Female</td>\n",
       "      <td>0</td>\n",
       "      <td>Yes</td>\n",
       "      <td>No</td>\n",
       "      <td>1</td>\n",
       "      <td>No</td>\n",
       "      <td>No phone service</td>\n",
       "      <td>DSL</td>\n",
       "      <td>No</td>\n",
       "      <td>...</td>\n",
       "      <td>No</td>\n",
       "      <td>No</td>\n",
       "      <td>No</td>\n",
       "      <td>No</td>\n",
       "      <td>Month-to-month</td>\n",
       "      <td>Yes</td>\n",
       "      <td>Electronic check</td>\n",
       "      <td>29.85</td>\n",
       "      <td>29.85</td>\n",
       "      <td>No</td>\n",
       "    </tr>\n",
       "    <tr>\n",
       "      <th>1</th>\n",
       "      <td>5575-GNVDE</td>\n",
       "      <td>Male</td>\n",
       "      <td>0</td>\n",
       "      <td>No</td>\n",
       "      <td>No</td>\n",
       "      <td>34</td>\n",
       "      <td>Yes</td>\n",
       "      <td>No</td>\n",
       "      <td>DSL</td>\n",
       "      <td>Yes</td>\n",
       "      <td>...</td>\n",
       "      <td>Yes</td>\n",
       "      <td>No</td>\n",
       "      <td>No</td>\n",
       "      <td>No</td>\n",
       "      <td>One year</td>\n",
       "      <td>No</td>\n",
       "      <td>Mailed check</td>\n",
       "      <td>56.95</td>\n",
       "      <td>1889.5</td>\n",
       "      <td>No</td>\n",
       "    </tr>\n",
       "    <tr>\n",
       "      <th>2</th>\n",
       "      <td>3668-QPYBK</td>\n",
       "      <td>Male</td>\n",
       "      <td>0</td>\n",
       "      <td>No</td>\n",
       "      <td>No</td>\n",
       "      <td>2</td>\n",
       "      <td>Yes</td>\n",
       "      <td>No</td>\n",
       "      <td>DSL</td>\n",
       "      <td>Yes</td>\n",
       "      <td>...</td>\n",
       "      <td>No</td>\n",
       "      <td>No</td>\n",
       "      <td>No</td>\n",
       "      <td>No</td>\n",
       "      <td>Month-to-month</td>\n",
       "      <td>Yes</td>\n",
       "      <td>Mailed check</td>\n",
       "      <td>53.85</td>\n",
       "      <td>108.15</td>\n",
       "      <td>Yes</td>\n",
       "    </tr>\n",
       "    <tr>\n",
       "      <th>3</th>\n",
       "      <td>7795-CFOCW</td>\n",
       "      <td>Male</td>\n",
       "      <td>0</td>\n",
       "      <td>No</td>\n",
       "      <td>No</td>\n",
       "      <td>45</td>\n",
       "      <td>No</td>\n",
       "      <td>No phone service</td>\n",
       "      <td>DSL</td>\n",
       "      <td>Yes</td>\n",
       "      <td>...</td>\n",
       "      <td>Yes</td>\n",
       "      <td>Yes</td>\n",
       "      <td>No</td>\n",
       "      <td>No</td>\n",
       "      <td>One year</td>\n",
       "      <td>No</td>\n",
       "      <td>Bank transfer (automatic)</td>\n",
       "      <td>42.30</td>\n",
       "      <td>1840.75</td>\n",
       "      <td>No</td>\n",
       "    </tr>\n",
       "    <tr>\n",
       "      <th>4</th>\n",
       "      <td>9237-HQITU</td>\n",
       "      <td>Female</td>\n",
       "      <td>0</td>\n",
       "      <td>No</td>\n",
       "      <td>No</td>\n",
       "      <td>2</td>\n",
       "      <td>Yes</td>\n",
       "      <td>No</td>\n",
       "      <td>Fiber optic</td>\n",
       "      <td>No</td>\n",
       "      <td>...</td>\n",
       "      <td>No</td>\n",
       "      <td>No</td>\n",
       "      <td>No</td>\n",
       "      <td>No</td>\n",
       "      <td>Month-to-month</td>\n",
       "      <td>Yes</td>\n",
       "      <td>Electronic check</td>\n",
       "      <td>70.70</td>\n",
       "      <td>151.65</td>\n",
       "      <td>Yes</td>\n",
       "    </tr>\n",
       "  </tbody>\n",
       "</table>\n",
       "<p>5 rows × 21 columns</p>\n",
       "</div>"
      ],
      "text/plain": [
       "   customerID  gender  SeniorCitizen Partner Dependents  tenure PhoneService  \\\n",
       "0  7590-VHVEG  Female              0     Yes         No       1           No   \n",
       "1  5575-GNVDE    Male              0      No         No      34          Yes   \n",
       "2  3668-QPYBK    Male              0      No         No       2          Yes   \n",
       "3  7795-CFOCW    Male              0      No         No      45           No   \n",
       "4  9237-HQITU  Female              0      No         No       2          Yes   \n",
       "\n",
       "      MultipleLines InternetService OnlineSecurity  ... DeviceProtection  \\\n",
       "0  No phone service             DSL             No  ...               No   \n",
       "1                No             DSL            Yes  ...              Yes   \n",
       "2                No             DSL            Yes  ...               No   \n",
       "3  No phone service             DSL            Yes  ...              Yes   \n",
       "4                No     Fiber optic             No  ...               No   \n",
       "\n",
       "  TechSupport StreamingTV StreamingMovies        Contract PaperlessBilling  \\\n",
       "0          No          No              No  Month-to-month              Yes   \n",
       "1          No          No              No        One year               No   \n",
       "2          No          No              No  Month-to-month              Yes   \n",
       "3         Yes          No              No        One year               No   \n",
       "4          No          No              No  Month-to-month              Yes   \n",
       "\n",
       "               PaymentMethod MonthlyCharges  TotalCharges Churn  \n",
       "0           Electronic check          29.85         29.85    No  \n",
       "1               Mailed check          56.95        1889.5    No  \n",
       "2               Mailed check          53.85        108.15   Yes  \n",
       "3  Bank transfer (automatic)          42.30       1840.75    No  \n",
       "4           Electronic check          70.70        151.65   Yes  \n",
       "\n",
       "[5 rows x 21 columns]"
      ]
     },
     "execution_count": 2,
     "metadata": {},
     "output_type": "execute_result"
    }
   ],
   "source": [
    "data.head(5)"
   ]
  },
  {
   "cell_type": "markdown",
   "metadata": {},
   "source": [
    "#### Data information"
   ]
  },
  {
   "cell_type": "code",
   "execution_count": 3,
   "metadata": {},
   "outputs": [
    {
     "name": "stdout",
     "output_type": "stream",
     "text": [
      "<class 'pandas.core.frame.DataFrame'>\n",
      "RangeIndex: 7043 entries, 0 to 7042\n",
      "Data columns (total 21 columns):\n",
      " #   Column            Non-Null Count  Dtype  \n",
      "---  ------            --------------  -----  \n",
      " 0   customerID        7043 non-null   object \n",
      " 1   gender            7043 non-null   object \n",
      " 2   SeniorCitizen     7043 non-null   int64  \n",
      " 3   Partner           7043 non-null   object \n",
      " 4   Dependents        7043 non-null   object \n",
      " 5   tenure            7043 non-null   int64  \n",
      " 6   PhoneService      7043 non-null   object \n",
      " 7   MultipleLines     7043 non-null   object \n",
      " 8   InternetService   7043 non-null   object \n",
      " 9   OnlineSecurity    7043 non-null   object \n",
      " 10  OnlineBackup      7043 non-null   object \n",
      " 11  DeviceProtection  7043 non-null   object \n",
      " 12  TechSupport       7043 non-null   object \n",
      " 13  StreamingTV       7043 non-null   object \n",
      " 14  StreamingMovies   7043 non-null   object \n",
      " 15  Contract          7043 non-null   object \n",
      " 16  PaperlessBilling  7043 non-null   object \n",
      " 17  PaymentMethod     7043 non-null   object \n",
      " 18  MonthlyCharges    7043 non-null   float64\n",
      " 19  TotalCharges      7043 non-null   object \n",
      " 20  Churn             7043 non-null   object \n",
      "dtypes: float64(1), int64(2), object(18)\n",
      "memory usage: 1.1+ MB\n",
      "DATA Shape: (7043, 21)\n"
     ]
    }
   ],
   "source": [
    "data.info()\n",
    "print(\"DATA Shape:\",data.shape)"
   ]
  },
  {
   "cell_type": "markdown",
   "metadata": {},
   "source": [
    "The dataset contains the information of 7043 customers churn. Everything looks good except TotalCharges which should be float64 type. (Point noted!)"
   ]
  },
  {
   "cell_type": "markdown",
   "metadata": {},
   "source": [
    "####  Looking at Missing Values"
   ]
  },
  {
   "cell_type": "code",
   "execution_count": 4,
   "metadata": {},
   "outputs": [
    {
     "data": {
      "text/plain": [
       "customerID          0\n",
       "gender              0\n",
       "SeniorCitizen       0\n",
       "Partner             0\n",
       "Dependents          0\n",
       "tenure              0\n",
       "PhoneService        0\n",
       "MultipleLines       0\n",
       "InternetService     0\n",
       "OnlineSecurity      0\n",
       "OnlineBackup        0\n",
       "DeviceProtection    0\n",
       "TechSupport         0\n",
       "StreamingTV         0\n",
       "StreamingMovies     0\n",
       "Contract            0\n",
       "PaperlessBilling    0\n",
       "PaymentMethod       0\n",
       "MonthlyCharges      0\n",
       "TotalCharges        0\n",
       "Churn               0\n",
       "dtype: int64"
      ]
     },
     "execution_count": 4,
     "metadata": {},
     "output_type": "execute_result"
    }
   ],
   "source": [
    "data.isnull().sum()"
   ]
  },
  {
   "cell_type": "markdown",
   "metadata": {},
   "source": [
    "There are no missing values in the dataset."
   ]
  },
  {
   "cell_type": "markdown",
   "metadata": {},
   "source": [
    "####  Looking at the unique values in the dataset"
   ]
  },
  {
   "cell_type": "code",
   "execution_count": 5,
   "metadata": {
    "scrolled": false
   },
   "outputs": [
    {
     "data": {
      "text/plain": [
       "customerID          7043\n",
       "gender                 2\n",
       "SeniorCitizen          2\n",
       "Partner                2\n",
       "Dependents             2\n",
       "tenure                73\n",
       "PhoneService           2\n",
       "MultipleLines          3\n",
       "InternetService        3\n",
       "OnlineSecurity         3\n",
       "OnlineBackup           3\n",
       "DeviceProtection       3\n",
       "TechSupport            3\n",
       "StreamingTV            3\n",
       "StreamingMovies        3\n",
       "Contract               3\n",
       "PaperlessBilling       2\n",
       "PaymentMethod          4\n",
       "MonthlyCharges      1585\n",
       "TotalCharges        6531\n",
       "Churn                  2\n",
       "dtype: int64"
      ]
     },
     "execution_count": 5,
     "metadata": {},
     "output_type": "execute_result"
    }
   ],
   "source": [
    "data.nunique()"
   ]
  },
  {
   "cell_type": "code",
   "execution_count": 6,
   "metadata": {},
   "outputs": [],
   "source": [
    "# droping customerID won't lose any information about churn\n",
    "data = data.drop(\"customerID\", axis = 'columns')"
   ]
  },
  {
   "cell_type": "markdown",
   "metadata": {},
   "source": [
    "#### Let's look at the distinct values and types"
   ]
  },
  {
   "cell_type": "code",
   "execution_count": 7,
   "metadata": {},
   "outputs": [
    {
     "name": "stdout",
     "output_type": "stream",
     "text": [
      "gender(object): ['Female' 'Male']\n",
      "SeniorCitizen(int64): [0 1]\n",
      "Partner(object): ['Yes' 'No']\n",
      "Dependents(object): ['No' 'Yes']\n",
      "tenure(int64): [ 1 34  2 45  8 22 10 28 62 13 16 58 49 25 69 52 71 21 12 30 47 72 17 27\n",
      "  5 46 11 70 63 43 15 60 18 66  9  3 31 50 64 56  7 42 35 48 29 65 38 68\n",
      " 32 55 37 36 41  6  4 33 67 23 57 61 14 20 53 40 59 24 44 19 54 51 26  0\n",
      " 39]\n",
      "PhoneService(object): ['No' 'Yes']\n",
      "MultipleLines(object): ['No phone service' 'No' 'Yes']\n",
      "InternetService(object): ['DSL' 'Fiber optic' 'No']\n",
      "OnlineSecurity(object): ['No' 'Yes' 'No internet service']\n",
      "OnlineBackup(object): ['Yes' 'No' 'No internet service']\n",
      "DeviceProtection(object): ['No' 'Yes' 'No internet service']\n",
      "TechSupport(object): ['No' 'Yes' 'No internet service']\n",
      "StreamingTV(object): ['No' 'Yes' 'No internet service']\n",
      "StreamingMovies(object): ['No' 'Yes' 'No internet service']\n",
      "Contract(object): ['Month-to-month' 'One year' 'Two year']\n",
      "PaperlessBilling(object): ['Yes' 'No']\n",
      "PaymentMethod(object): ['Electronic check' 'Mailed check' 'Bank transfer (automatic)'\n",
      " 'Credit card (automatic)']\n",
      "MonthlyCharges(float64): [29.85 56.95 53.85 ... 63.1  44.2  78.7 ]\n",
      "TotalCharges(object): ['29.85' '1889.5' '108.15' ... '346.45' '306.6' '6844.5']\n",
      "Churn(object): ['No' 'Yes']\n"
     ]
    }
   ],
   "source": [
    "for column in data:\n",
    "    print(f'{column}({data[column].dtypes}): {data[column].unique()}')"
   ]
  },
  {
   "cell_type": "markdown",
   "metadata": {},
   "source": [
    "Some of the labels can be merged like \"No internet service\": No, \"No phone service\": No."
   ]
  },
  {
   "cell_type": "code",
   "execution_count": 8,
   "metadata": {},
   "outputs": [],
   "source": [
    "# MultipleLines, OnlineSecurity, OnlineBackup, \n",
    "# DeviceProtection, TechSupport, StreamingTV, StreamingMovies\n",
    "\n",
    "data.replace('No phone service','No',inplace = True)\n",
    "data.replace('No internet service','No',inplace = True)"
   ]
  },
  {
   "cell_type": "code",
   "execution_count": 9,
   "metadata": {},
   "outputs": [
    {
     "data": {
      "text/plain": [
       "0"
      ]
     },
     "execution_count": 9,
     "metadata": {},
     "output_type": "execute_result"
    }
   ],
   "source": [
    "# As noted, Totalcharges needs correction\n",
    "data[pd.to_numeric(data.TotalCharges,errors='coerce').isnull()]\n",
    "# Dropping blank spaces in the Total Columns since they corresponds to 0.15% of the total dataset\n",
    "data = data[data.TotalCharges!=' ']\n",
    "# Since TotalCharges types are object\n",
    "data['TotalCharges'] = pd.to_numeric(data['TotalCharges'])\n",
    "# Checking Null values in the TotalCharges\n",
    "data.TotalCharges.isnull().sum()"
   ]
  },
  {
   "cell_type": "code",
   "execution_count": 10,
   "metadata": {},
   "outputs": [
    {
     "name": "stdout",
     "output_type": "stream",
     "text": [
      "gender(object): ['Female' 'Male']\n",
      "SeniorCitizen(int64): [0 1]\n",
      "Partner(object): ['Yes' 'No']\n",
      "Dependents(object): ['No' 'Yes']\n",
      "tenure(int64): [ 1 34  2 45  8 22 10 28 62 13 16 58 49 25 69 52 71 21 12 30 47 72 17 27\n",
      "  5 46 11 70 63 43 15 60 18 66  9  3 31 50 64 56  7 42 35 48 29 65 38 68\n",
      " 32 55 37 36 41  6  4 33 67 23 57 61 14 20 53 40 59 24 44 19 54 51 26 39]\n",
      "PhoneService(object): ['No' 'Yes']\n",
      "MultipleLines(object): ['No' 'Yes']\n",
      "InternetService(object): ['DSL' 'Fiber optic' 'No']\n",
      "OnlineSecurity(object): ['No' 'Yes']\n",
      "OnlineBackup(object): ['Yes' 'No']\n",
      "DeviceProtection(object): ['No' 'Yes']\n",
      "TechSupport(object): ['No' 'Yes']\n",
      "StreamingTV(object): ['No' 'Yes']\n",
      "StreamingMovies(object): ['No' 'Yes']\n",
      "Contract(object): ['Month-to-month' 'One year' 'Two year']\n",
      "PaperlessBilling(object): ['Yes' 'No']\n",
      "PaymentMethod(object): ['Electronic check' 'Mailed check' 'Bank transfer (automatic)'\n",
      " 'Credit card (automatic)']\n",
      "MonthlyCharges(float64): [29.85 56.95 53.85 ... 63.1  44.2  78.7 ]\n",
      "TotalCharges(float64): [  29.85 1889.5   108.15 ...  346.45  306.6  6844.5 ]\n",
      "Churn(object): ['No' 'Yes']\n"
     ]
    }
   ],
   "source": [
    "# Let's look at the distinct values and types again\n",
    "for column in data:\n",
    "    print(f'{column}({data[column].dtypes}): {data[column].unique()}')"
   ]
  },
  {
   "cell_type": "markdown",
   "metadata": {},
   "source": [
    "## Data visualization"
   ]
  },
  {
   "cell_type": "markdown",
   "metadata": {},
   "source": [
    "#### Visualizing the behaviour of numerical features for churn"
   ]
  },
  {
   "cell_type": "code",
   "execution_count": 11,
   "metadata": {
    "scrolled": true
   },
   "outputs": [
    {
     "data": {
      "image/png": "[encoded data removed]",
      "text/plain": [
       "<Figure size 1224x432 with 3 Axes>"
      ]
     },
     "metadata": {
      "needs_background": "light"
     },
     "output_type": "display_data"
    }
   ],
   "source": [
    "# tenure', 'MonthlyCharges', 'TotalCharges' for churn\n",
    "features = ['tenure', 'MonthlyCharges', 'TotalCharges']\n",
    "fig , ax = plt.subplots(1,3,figsize=(17,6))\n",
    "for i , x in enumerate(features):\n",
    "    ax[i].hist(x = [data[data['Churn']=='Yes'][x],data[data['Churn']=='No'][x]], \n",
    "                 stacked=True, color = ['r','g'],\n",
    "               label = ['Churn = Yes','Churn = No'], bins=10)\n",
    "    ax[i].set(xlabel=x,ylabel='Number of Customers')\n",
    "    ax[i].legend()"
   ]
  },
  {
   "cell_type": "markdown",
   "metadata": {},
   "source": [
    "Long-term tenured customers are less likely to churn, paying less total charges prefer to leave contract."
   ]
  },
  {
   "cell_type": "code",
   "execution_count": 12,
   "metadata": {},
   "outputs": [],
   "source": [
    "#Converting SeniorCitizen feature to Categorical variable for visualization\n",
    "data.SeniorCitizen= data.SeniorCitizen.map({0:'No', 1:'Yes'})"
   ]
  },
  {
   "cell_type": "markdown",
   "metadata": {},
   "source": [
    "#### Total Customer Churn (in Percentage)"
   ]
  },
  {
   "cell_type": "code",
   "execution_count": 13,
   "metadata": {},
   "outputs": [
    {
     "data": {
      "text/plain": [
       "26.58"
      ]
     },
     "execution_count": 13,
     "metadata": {},
     "output_type": "execute_result"
    }
   ],
   "source": [
    "round(data[data.Churn == 'Yes']['Churn'].count()/data['Churn'].count() * 100, 2)"
   ]
  },
  {
   "cell_type": "markdown",
   "metadata": {},
   "source": [
    "26.58% of Telco Customers leave the service and need some kind of retention measures. Our task is to identify such customers based on given data."
   ]
  },
  {
   "cell_type": "code",
   "execution_count": 14,
   "metadata": {},
   "outputs": [],
   "source": [
    "# Contracting long names to fit on axis such as 'Bank transfer (automatic)':Bank transfer A\n",
    "data.PaymentMethod = data.PaymentMethod.map({\n",
    "    'Bank transfer (automatic)':'Bank transfer A',\n",
    "    'Credit card (automatic)':'Credit card A',\n",
    "    'Mailed check':'Mailed check',\n",
    "    'Electronic check':'Electronic check'})"
   ]
  },
  {
   "cell_type": "markdown",
   "metadata": {},
   "source": [
    "#### Visualizing the behaviour of categorical features for churn"
   ]
  },
  {
   "cell_type": "code",
   "execution_count": 15,
   "metadata": {},
   "outputs": [
    {
     "data": {
      "image/png": "[encoded data removed]",
      "text/plain": [
       "<Figure size 1800x1440 with 16 Axes>"
      ]
     },
     "metadata": {
      "needs_background": "light"
     },
     "output_type": "display_data"
    }
   ],
   "source": [
    "categorical_features = [i for i in data if data[i].dtypes == object]\n",
    "fig, ax = plt.subplots(4,4, figsize = (25,20))\n",
    "for i , x in enumerate(categorical_features[:-1]):\n",
    "    ax[i//4,i%4].hist(x = [data[data['Churn']=='Yes'][x],data[data['Churn']=='No'][x]],\n",
    "               stacked=True, color = ['r','g'],\n",
    "                      label = ['Churn = Yes','Churn = No'])\n",
    "    ax[i//4,i%4].set(xlabel=x,ylabel='Number of Customers')\n",
    "    ax[i//4,i%4].legend()    "
   ]
  },
  {
   "cell_type": "markdown",
   "metadata": {},
   "source": [
    "<b> Customers are more likely to Churn if they: </b>\n",
    "- Are Senior Citizen\n",
    "- Have no partner\n",
    "- Not Dependents\n",
    "- Are using Optical Fiber Internet Service\n",
    "- Have no online Security, Online Backup, Device Protection and Tech Support\n",
    "- Have Month-to-month contract \n",
    "- Have Paperless billing\n",
    "- Pay by electronic check\n"
   ]
  },
  {
   "cell_type": "markdown",
   "metadata": {},
   "source": [
    "#### The percentage of categorical features for churn"
   ]
  },
  {
   "cell_type": "code",
   "execution_count": 16,
   "metadata": {},
   "outputs": [
    {
     "name": "stdout",
     "output_type": "stream",
     "text": [
      "gender: [('Female', 26.96), ('Male', 26.205)]\n",
      "SeniorCitizen: [('No', 23.65), ('Yes', 41.681)]\n",
      "Partner: [('Yes', 19.717), ('No', 32.976)]\n",
      "Dependents: [('No', 31.279), ('Yes', 15.531)]\n",
      "PhoneService: [('No', 25.0), ('Yes', 26.747)]\n",
      "MultipleLines: [('No', 25.068), ('Yes', 28.648)]\n",
      "InternetService: [('DSL', 18.998), ('Fiber optic', 41.893), ('No', 7.434)]\n",
      "OnlineSecurity: [('No', 31.373), ('Yes', 14.64)]\n",
      "OnlineBackup: [('Yes', 21.567), ('No', 29.216)]\n",
      "DeviceProtection: [('No', 28.695), ('Yes', 22.539)]\n",
      "TechSupport: [('No', 31.23), ('Yes', 15.196)]\n",
      "StreamingTV: [('No', 24.371), ('Yes', 30.115)]\n",
      "StreamingMovies: [('No', 24.436), ('Yes', 29.952)]\n",
      "Contract: [('Month-to-month', 42.71), ('One year', 11.277), ('Two year', 2.849)]\n",
      "PaperlessBilling: [('Yes', 33.589), ('No', 16.376)]\n",
      "PaymentMethod: [('Electronic check', 45.285), ('Mailed check', 19.202), ('Bank transfer A', 16.732), ('Credit card A', 15.253)]\n"
     ]
    }
   ],
   "source": [
    "# The function determines \n",
    "def feature_churn_percentage(x):\n",
    "    return [(data[x].unique()[i],\n",
    "             round(data[(data.Churn =='Yes') & (data[x] == data[x].unique()[i])][x].count()\n",
    "                   /data[(data[x] == data[x].unique()[i])][x].count() * 100,3))\n",
    "            for i in range(0,data[x].nunique())]\n",
    "\n",
    "for x in categorical_features[:-1]:\n",
    "    print(f'{x}: {feature_churn_percentage(x)}')"
   ]
  },
  {
   "cell_type": "markdown",
   "metadata": {},
   "source": [
    "The percentage of female and male churn is almost the same. There is a significant likelihood of churn if a customer is a senior citizen. Fiber optical internet service, month-to-month contract, and payment by electronic check are the features likely to churn. However, it is more important to see the contribution of features to the total churn."
   ]
  },
  {
   "cell_type": "markdown",
   "metadata": {},
   "source": [
    "#### Percentage of the contribution of features  to the total churn"
   ]
  },
  {
   "cell_type": "code",
   "execution_count": 17,
   "metadata": {
    "scrolled": true
   },
   "outputs": [
    {
     "name": "stdout",
     "output_type": "stream",
     "text": [
      "gender: [('Female', 13.35), ('Male', 13.23)]\n",
      "SeniorCitizen: [('No', 19.81), ('Yes', 6.77)]\n",
      "Partner: [('Yes', 9.51), ('No', 17.06)]\n",
      "Dependents: [('No', 21.94), ('Yes', 4.64)]\n",
      "PhoneService: [('No', 2.42), ('Yes', 24.16)]\n",
      "MultipleLines: [('No', 14.49), ('Yes', 12.09)]\n",
      "InternetService: [('DSL', 6.53), ('Fiber optic', 18.44), ('No', 1.61)]\n",
      "OnlineSecurity: [('No', 22.38), ('Yes', 4.2)]\n",
      "OnlineBackup: [('Yes', 7.44), ('No', 19.14)]\n",
      "DeviceProtection: [('No', 18.83), ('Yes', 7.75)]\n",
      "TechSupport: [('No', 22.17), ('Yes', 4.41)]\n",
      "StreamingTV: [('No', 15.0), ('Yes', 11.58)]\n",
      "StreamingMovies: [('No', 14.95), ('Yes', 11.63)]\n",
      "Contract: [('Month-to-month', 23.54), ('One year', 2.36), ('Two year', 0.68)]\n",
      "PaperlessBilling: [('Yes', 19.91), ('No', 6.67)]\n",
      "PaymentMethod: [('Electronic check', 15.23), ('Mailed check', 4.38), ('Bank transfer A', 3.67), ('Credit card A', 3.3)]\n"
     ]
    }
   ],
   "source": [
    "def total_churn_percentage(x):\n",
    "    return [(data[x].unique()[i],\n",
    "             round(data[(data.Churn =='Yes') & (data[x] == data[x].unique()[i])][x].count()\n",
    "                   /data[x].count() * 100,2))\n",
    "            for i in range(0,data[x].nunique())]\n",
    "\n",
    "for x in categorical_features[:-1]:\n",
    "    print(f'{x}: {total_churn_percentage(x)}')"
   ]
  },
  {
   "cell_type": "markdown",
   "metadata": {},
   "source": [
    "Even though 41.7% of senior citizens are not loyal and prefer to leave, they are only 6.7% towards total churn. The majority of non-senior citizens prefer to stay but still far more in numbers 19.81% of total churn. Customers with month-to-month contracts are the most likely to churn."
   ]
  },
  {
   "cell_type": "markdown",
   "metadata": {},
   "source": [
    "#### Visualizing all features on the same scale to get the sense of the dominance of a particular feature "
   ]
  },
  {
   "cell_type": "code",
   "execution_count": 18,
   "metadata": {},
   "outputs": [
    {
     "data": {
      "text/plain": [
       "<matplotlib.legend.Legend at 0x1a27183d10>"
      ]
     },
     "execution_count": 18,
     "metadata": {},
     "output_type": "execute_result"
    },
    {
     "data": {
      "image/png": "[encoded data removed]",
      "text/plain": [
       "<Figure size 1800x1440 with 2 Axes>"
      ]
     },
     "metadata": {
      "needs_background": "light"
     },
     "output_type": "display_data"
    }
   ],
   "source": [
    "categorical_features = [i for i in data if data[i].dtypes == object]\n",
    "fig, ax = plt.subplots(2,1,figsize = (25,20))\n",
    "for x in categorical_features[:-1]:\n",
    "    if data[x].unique()[0] not in ['Yes', 'No']:\n",
    "        ax[0].hist(x = data[data['Churn']=='Yes'][x],label = [x])\n",
    "        ax[0].set_ylim(0,1800) \n",
    "        ax[0].xaxis.set_tick_params(length=0,labelsize = 14)\n",
    "        ax[0].yaxis.set_tick_params(length=0,labelsize = 20)\n",
    "        ax[0].text(0.5,1700, 'Relative Churn', size = 25)\n",
    "        ax[0].legend(fontsize = 14, loc = 0)\n",
    "\n",
    "\n",
    "\n",
    "ax[1].hist(x = [data[data['Churn']=='Yes'][i] for i in categorical_features[:-1] \n",
    "                if data[i].unique()[0] in ['Yes', 'No']], \n",
    "           label = [i for i in categorical_features[:-1] if data[i].unique()[0] \n",
    "                    in ['Yes', 'No']])\n",
    "ax[1].set_ylim(0,1800)\n",
    "ax[1].xaxis.set_tick_params(length=0,labelsize = 16)\n",
    "ax[1].yaxis.set_tick_params(length=0,labelsize = 20)\n",
    "ax[1].text(0.04,1700, 'Relative Churn', size = 25)\n",
    "ax[1].legend(fontsize = 14, loc = 9)"
   ]
  },
  {
   "cell_type": "markdown",
   "metadata": {},
   "source": [
    "## Building Churn Prediction Model"
   ]
  },
  {
   "cell_type": "markdown",
   "metadata": {},
   "source": [
    "#### Data Preparation"
   ]
  },
  {
   "cell_type": "code",
   "execution_count": 19,
   "metadata": {},
   "outputs": [],
   "source": [
    "# Changing Catergorial data into Numerical Values of 0 and 1 to build churn model\n",
    "# Gender, Partner, Dependents, PhoneService, PaperlessBilling, PaymentMethod, Churn\n",
    "features = [\"SeniorCitizen\",\"Partner\", \"Dependents\", \"PhoneService\", \"MultipleLines\",\n",
    "            \"OnlineSecurity\", \"OnlineBackup\", \"DeviceProtection\",\"TechSupport\",\n",
    "            \"StreamingTV\",\"StreamingMovies\", \"PaperlessBilling\", \"Churn\"]\n",
    "\n",
    "for column in features:\n",
    "    data[column] = data[column].map({'Yes': 1, \"No\": 0})\n",
    "data[\"gender\"] = data[\"gender\"].map({'Female': 1, 'Male': 0})"
   ]
  },
  {
   "cell_type": "code",
   "execution_count": 20,
   "metadata": {},
   "outputs": [],
   "source": [
    "# InternetService, Contract, PaymentMethod are still object and have 3 or more unique values.\n",
    "data = pd.get_dummies(data=data,columns=['InternetService','Contract',\n",
    "                                         'PaymentMethod'])"
   ]
  },
  {
   "cell_type": "code",
   "execution_count": 21,
   "metadata": {},
   "outputs": [
    {
     "data": {
      "text/html": [
       "<div>\n",
       "<style scoped>\n",
       "    .dataframe tbody tr th:only-of-type {\n",
       "        vertical-align: middle;\n",
       "    }\n",
       "\n",
       "    .dataframe tbody tr th {\n",
       "        vertical-align: top;\n",
       "    }\n",
       "\n",
       "    .dataframe thead th {\n",
       "        text-align: right;\n",
       "    }\n",
       "</style>\n",
       "<table border=\"1\" class=\"dataframe\">\n",
       "  <thead>\n",
       "    <tr style=\"text-align: right;\">\n",
       "      <th></th>\n",
       "      <th>gender</th>\n",
       "      <th>SeniorCitizen</th>\n",
       "      <th>Partner</th>\n",
       "      <th>Dependents</th>\n",
       "      <th>tenure</th>\n",
       "      <th>PhoneService</th>\n",
       "      <th>MultipleLines</th>\n",
       "      <th>OnlineSecurity</th>\n",
       "      <th>OnlineBackup</th>\n",
       "      <th>DeviceProtection</th>\n",
       "      <th>...</th>\n",
       "      <th>InternetService_DSL</th>\n",
       "      <th>InternetService_Fiber optic</th>\n",
       "      <th>InternetService_No</th>\n",
       "      <th>Contract_Month-to-month</th>\n",
       "      <th>Contract_One year</th>\n",
       "      <th>Contract_Two year</th>\n",
       "      <th>PaymentMethod_Bank transfer A</th>\n",
       "      <th>PaymentMethod_Credit card A</th>\n",
       "      <th>PaymentMethod_Electronic check</th>\n",
       "      <th>PaymentMethod_Mailed check</th>\n",
       "    </tr>\n",
       "  </thead>\n",
       "  <tbody>\n",
       "    <tr>\n",
       "      <th>5908</th>\n",
       "      <td>0</td>\n",
       "      <td>0</td>\n",
       "      <td>0</td>\n",
       "      <td>0</td>\n",
       "      <td>1</td>\n",
       "      <td>1</td>\n",
       "      <td>0</td>\n",
       "      <td>0</td>\n",
       "      <td>0</td>\n",
       "      <td>0</td>\n",
       "      <td>...</td>\n",
       "      <td>0</td>\n",
       "      <td>0</td>\n",
       "      <td>1</td>\n",
       "      <td>1</td>\n",
       "      <td>0</td>\n",
       "      <td>0</td>\n",
       "      <td>0</td>\n",
       "      <td>0</td>\n",
       "      <td>0</td>\n",
       "      <td>1</td>\n",
       "    </tr>\n",
       "    <tr>\n",
       "      <th>6878</th>\n",
       "      <td>1</td>\n",
       "      <td>0</td>\n",
       "      <td>0</td>\n",
       "      <td>0</td>\n",
       "      <td>6</td>\n",
       "      <td>1</td>\n",
       "      <td>0</td>\n",
       "      <td>0</td>\n",
       "      <td>0</td>\n",
       "      <td>0</td>\n",
       "      <td>...</td>\n",
       "      <td>0</td>\n",
       "      <td>1</td>\n",
       "      <td>0</td>\n",
       "      <td>1</td>\n",
       "      <td>0</td>\n",
       "      <td>0</td>\n",
       "      <td>0</td>\n",
       "      <td>0</td>\n",
       "      <td>1</td>\n",
       "      <td>0</td>\n",
       "    </tr>\n",
       "    <tr>\n",
       "      <th>6544</th>\n",
       "      <td>1</td>\n",
       "      <td>1</td>\n",
       "      <td>0</td>\n",
       "      <td>0</td>\n",
       "      <td>42</td>\n",
       "      <td>1</td>\n",
       "      <td>1</td>\n",
       "      <td>0</td>\n",
       "      <td>1</td>\n",
       "      <td>1</td>\n",
       "      <td>...</td>\n",
       "      <td>0</td>\n",
       "      <td>1</td>\n",
       "      <td>0</td>\n",
       "      <td>1</td>\n",
       "      <td>0</td>\n",
       "      <td>0</td>\n",
       "      <td>1</td>\n",
       "      <td>0</td>\n",
       "      <td>0</td>\n",
       "      <td>0</td>\n",
       "    </tr>\n",
       "  </tbody>\n",
       "</table>\n",
       "<p>3 rows × 27 columns</p>\n",
       "</div>"
      ],
      "text/plain": [
       "      gender  SeniorCitizen  Partner  Dependents  tenure  PhoneService  \\\n",
       "5908       0              0        0           0       1             1   \n",
       "6878       1              0        0           0       6             1   \n",
       "6544       1              1        0           0      42             1   \n",
       "\n",
       "      MultipleLines  OnlineSecurity  OnlineBackup  DeviceProtection  ...  \\\n",
       "5908              0               0             0                 0  ...   \n",
       "6878              0               0             0                 0  ...   \n",
       "6544              1               0             1                 1  ...   \n",
       "\n",
       "      InternetService_DSL  InternetService_Fiber optic  InternetService_No  \\\n",
       "5908                    0                            0                   1   \n",
       "6878                    0                            1                   0   \n",
       "6544                    0                            1                   0   \n",
       "\n",
       "      Contract_Month-to-month  Contract_One year  Contract_Two year  \\\n",
       "5908                        1                  0                  0   \n",
       "6878                        1                  0                  0   \n",
       "6544                        1                  0                  0   \n",
       "\n",
       "      PaymentMethod_Bank transfer A  PaymentMethod_Credit card A  \\\n",
       "5908                              0                            0   \n",
       "6878                              0                            0   \n",
       "6544                              1                            0   \n",
       "\n",
       "      PaymentMethod_Electronic check  PaymentMethod_Mailed check  \n",
       "5908                               0                           1  \n",
       "6878                               1                           0  \n",
       "6544                               0                           0  \n",
       "\n",
       "[3 rows x 27 columns]"
      ]
     },
     "execution_count": 21,
     "metadata": {},
     "output_type": "execute_result"
    }
   ],
   "source": [
    "# Looking at the data,\n",
    "data.sample(3)"
   ]
  },
  {
   "cell_type": "markdown",
   "metadata": {},
   "source": [
    "#### Scaling data, and train and test split"
   ]
  },
  {
   "cell_type": "code",
   "execution_count": 22,
   "metadata": {},
   "outputs": [],
   "source": [
    "# Scaling data \n",
    "import sklearn\n",
    "from sklearn.model_selection import  train_test_split\n",
    "from sklearn.preprocessing import MinMaxScaler\n",
    "\n",
    "scaler = MinMaxScaler()\n",
    "data[['tenure','MonthlyCharges','TotalCharges']] = scaler.fit_transform(\n",
    "    data[['tenure','MonthlyCharges','TotalCharges']])"
   ]
  },
  {
   "cell_type": "code",
   "execution_count": 23,
   "metadata": {},
   "outputs": [],
   "source": [
    "# Features data\n",
    "X = data.drop('Churn', axis = 1)\n",
    "# target\n",
    "y = data['Churn']\n",
    "# train and test split\n",
    "X_train, X_test, y_train, y_test = sklearn.model_selection.train_test_split(\n",
    "    X,y,test_size=0.20,random_state=101)"
   ]
  },
  {
   "cell_type": "markdown",
   "metadata": {},
   "source": [
    "### RANDOM FOREST MODEL"
   ]
  },
  {
   "cell_type": "code",
   "execution_count": 24,
   "metadata": {},
   "outputs": [
    {
     "data": {
      "text/plain": [
       "RandomForestClassifier(bootstrap=True, ccp_alpha=0.0, class_weight=None,\n",
       "                       criterion='gini', max_depth=None, max_features='auto',\n",
       "                       max_leaf_nodes=None, max_samples=None,\n",
       "                       min_impurity_decrease=0.0, min_impurity_split=None,\n",
       "                       min_samples_leaf=1, min_samples_split=2,\n",
       "                       min_weight_fraction_leaf=0.0, n_estimators=100,\n",
       "                       n_jobs=None, oob_score=False, random_state=None,\n",
       "                       verbose=0, warm_start=False)"
      ]
     },
     "execution_count": 24,
     "metadata": {},
     "output_type": "execute_result"
    }
   ],
   "source": [
    "from sklearn.ensemble import RandomForestClassifier\n",
    "\n",
    "random_classifier= RandomForestClassifier()\n",
    "random_classifier.fit(X_train,y_train)"
   ]
  },
  {
   "cell_type": "markdown",
   "metadata": {},
   "source": [
    "#### random forest model predictions"
   ]
  },
  {
   "cell_type": "code",
   "execution_count": 25,
   "metadata": {},
   "outputs": [],
   "source": [
    "y_pred= random_classifier.predict(X_test)"
   ]
  },
  {
   "cell_type": "markdown",
   "metadata": {},
   "source": [
    "#### Performance of the model: Classification report and Confusion matrix"
   ]
  },
  {
   "cell_type": "code",
   "execution_count": 26,
   "metadata": {},
   "outputs": [
    {
     "name": "stdout",
     "output_type": "stream",
     "text": [
      "              precision    recall  f1-score   support\n",
      "\n",
      "           0       0.84      0.89      0.86      1052\n",
      "           1       0.60      0.49      0.54       355\n",
      "\n",
      "    accuracy                           0.79      1407\n",
      "   macro avg       0.72      0.69      0.70      1407\n",
      "weighted avg       0.78      0.79      0.78      1407\n",
      "\n"
     ]
    }
   ],
   "source": [
    "from sklearn.metrics import confusion_matrix , classification_report\n",
    "\n",
    "print(classification_report(y_test,y_pred))"
   ]
  },
  {
   "cell_type": "code",
   "execution_count": 27,
   "metadata": {
    "scrolled": true
   },
   "outputs": [
    {
     "data": {
      "text/plain": [
       "Text(91.68, 0.5, 'Predicted label')"
      ]
     },
     "execution_count": 27,
     "metadata": {},
     "output_type": "execute_result"
    },
    {
     "data": {
      "image/png": "[encoded data removed]",
      "text/plain": [
       "<Figure size 432x288 with 1 Axes>"
      ]
     },
     "metadata": {
      "needs_background": "light"
     },
     "output_type": "display_data"
    }
   ],
   "source": [
    "#Confusion Matrix to asses the peformance of the classifier\n",
    "import numpy\n",
    "\n",
    "confusion_rfm = confusion_matrix(y_test, y_pred)\n",
    "sns.heatmap(numpy.flip(confusion_rfm), square=True, annot=True, fmt='d', \n",
    "            cbar=False,xticklabels=['Yes','No'], yticklabels=['Yes', 'No'] )\n",
    "plt.xlabel('Ground-truth label',fontsize = 12)\n",
    "plt.ylabel('Predicted label',fontsize = 12)"
   ]
  },
  {
   "cell_type": "markdown",
   "metadata": {},
   "source": [
    "#### Features importance"
   ]
  },
  {
   "cell_type": "code",
   "execution_count": 28,
   "metadata": {},
   "outputs": [
    {
     "data": {
      "text/plain": [
       "TotalCharges                      0.191232\n",
       "MonthlyCharges                    0.168943\n",
       "tenure                            0.152469\n",
       "Contract_Month-to-month           0.071749\n",
       "InternetService_Fiber optic       0.039749\n",
       "PaymentMethod_Electronic check    0.032762\n",
       "gender                            0.027157\n",
       "PaperlessBilling                  0.025230\n",
       "Contract_Two year                 0.023481\n",
       "OnlineSecurity                    0.022008\n",
       "Partner                           0.021783\n",
       "SeniorCitizen                     0.021418\n",
       "TechSupport                       0.020268\n",
       "OnlineBackup                      0.019609\n",
       "Dependents                        0.019220\n",
       "MultipleLines                     0.018252\n",
       "DeviceProtection                  0.018095\n",
       "StreamingMovies                   0.017338\n",
       "StreamingTV                       0.016917\n",
       "InternetService_No                0.012285\n",
       "PaymentMethod_Credit card A       0.011985\n",
       "PaymentMethod_Bank transfer A     0.011425\n",
       "PaymentMethod_Mailed check        0.011267\n",
       "InternetService_DSL               0.009349\n",
       "Contract_One year                 0.009188\n",
       "PhoneService                      0.006823\n",
       "dtype: float64"
      ]
     },
     "execution_count": 28,
     "metadata": {},
     "output_type": "execute_result"
    }
   ],
   "source": [
    "feature_imp= pd.Series(random_classifier.feature_importances_,index=X.columns)\n",
    "feature_imp.sort_values(ascending=False)"
   ]
  },
  {
   "cell_type": "markdown",
   "metadata": {},
   "source": [
    "## Neural network"
   ]
  },
  {
   "cell_type": "code",
   "execution_count": 29,
   "metadata": {},
   "outputs": [
    {
     "name": "stdout",
     "output_type": "stream",
     "text": [
      "Model: \"sequential_1\"\n",
      "_________________________________________________________________\n",
      "Layer (type)                 Output Shape              Param #   \n",
      "=================================================================\n",
      "dense_3 (Dense)              (None, 16)                432       \n",
      "_________________________________________________________________\n",
      "dense_4 (Dense)              (None, 32)                544       \n",
      "_________________________________________________________________\n",
      "dense_5 (Dense)              (None, 1)                 33        \n",
      "=================================================================\n",
      "Total params: 1,009\n",
      "Trainable params: 1,009\n",
      "Non-trainable params: 0\n",
      "_________________________________________________________________\n"
     ]
    }
   ],
   "source": [
    "import tensorflow as tf\n",
    "\n",
    "model = tf.keras.models.Sequential([\n",
    "    tf.keras.layers.Dense(16, input_shape=(26,), activation=\"relu\"), \n",
    "    tf.keras.layers.Dense(32, activation=\"relu\"), \n",
    "    tf.keras.layers.Dense(1, activation='sigmoid')\n",
    "])    \n",
    "\n",
    "model.summary()\n",
    "\n",
    "model.compile(loss = 'binary_crossentropy', optimizer='adam',\n",
    "              metrics=['accuracy'])\n",
    "\n",
    "history = model.fit(X_train, y_train, epochs=100, verbose = 0)"
   ]
  },
  {
   "cell_type": "code",
   "execution_count": 30,
   "metadata": {},
   "outputs": [
    {
     "name": "stdout",
     "output_type": "stream",
     "text": [
      "1407/1407 [==============================] - 0s 48us/sample - loss: 0.4489 - accuracy: 0.7982\n"
     ]
    },
    {
     "data": {
      "text/plain": [
       "[0.4488515585512664, 0.7981521]"
      ]
     },
     "execution_count": 30,
     "metadata": {},
     "output_type": "execute_result"
    }
   ],
   "source": [
    "model.evaluate(X_test,y_test)"
   ]
  },
  {
   "cell_type": "code",
   "execution_count": 31,
   "metadata": {},
   "outputs": [],
   "source": [
    "y_pred = model.predict(X_test)\n",
    "# Converting probabilities into labels 0 and 1\n",
    "pred = [1 if i >= 0.5 else 0 for i in y_pred]"
   ]
  },
  {
   "cell_type": "markdown",
   "metadata": {},
   "source": [
    "#### Performance of the model: Classification report and Confusion matrix"
   ]
  },
  {
   "cell_type": "code",
   "execution_count": 32,
   "metadata": {},
   "outputs": [
    {
     "name": "stdout",
     "output_type": "stream",
     "text": [
      "              precision    recall  f1-score   support\n",
      "\n",
      "           0       0.85      0.89      0.87      1052\n",
      "           1       0.61      0.54      0.57       355\n",
      "\n",
      "    accuracy                           0.80      1407\n",
      "   macro avg       0.73      0.71      0.72      1407\n",
      "weighted avg       0.79      0.80      0.79      1407\n",
      "\n"
     ]
    }
   ],
   "source": [
    "print(classification_report(y_test, pred))"
   ]
  },
  {
   "cell_type": "code",
   "execution_count": 34,
   "metadata": {},
   "outputs": [
    {
     "data": {
      "text/plain": [
       "Text(91.68, 0.5, 'Predicted label')"
      ]
     },
     "execution_count": 34,
     "metadata": {},
     "output_type": "execute_result"
    },
    {
     "data": {
      "image/png": "[encoded data removed]",
      "text/plain": [
       "<Figure size 432x288 with 1 Axes>"
      ]
     },
     "metadata": {
      "needs_background": "light"
     },
     "output_type": "display_data"
    }
   ],
   "source": [
    "# Confusion Matrix\n",
    "confusion_nn = tf.math.confusion_matrix(labels=y_test, predictions=pred)\n",
    "sns.heatmap(numpy.flip(confusion_nn),square=True,annot=True,fmt='d',\n",
    "           cbar=False,xticklabels=['Yes','No'], yticklabels=['Yes','No'])\n",
    "plt.xlabel(\"Ground-truth label\",fontsize = 12)\n",
    "plt.ylabel(\"Predicted label\",fontsize = 12)"
   ]
  },
  {
   "cell_type": "markdown",
   "metadata": {},
   "source": [
    "Using the above neural network and random forest model, we can estimate the Telco customer churn."
   ]
  }
 ],
 "metadata": {
  "kernelspec": {
   "display_name": "Python 3",
   "language": "python",
   "name": "python3"
  },
  "language_info": {
   "codemirror_mode": {
    "name": "ipython",
    "version": 3
   },
   "file_extension": ".py",
   "mimetype": "text/x-python",
   "name": "python",
   "nbconvert_exporter": "python",
   "pygments_lexer": "ipython3",
   "version": "3.7.6"
  }
 },
 "nbformat": 4,
 "nbformat_minor": 4
}
